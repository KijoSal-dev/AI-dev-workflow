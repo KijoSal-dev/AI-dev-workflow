{
  "nbformat": 4,
  "nbformat_minor": 0,
  "metadata": {
    "colab": {
      "provenance": [],
      "authorship_tag": "ABX9TyPDaxxQKLiZkGxpJRE/Ro10",
      "include_colab_link": true
    },
    "kernelspec": {
      "name": "python3",
      "display_name": "Python 3"
    },
    "language_info": {
      "name": "python"
    }
  },
  "cells": [
    {
      "cell_type": "markdown",
      "metadata": {
        "id": "view-in-github",
        "colab_type": "text"
      },
      "source": [
        "<a href=\"https://colab.research.google.com/github/KijoSal-dev/AI-dev-workflow/blob/main/data_collection.ipynb\" target=\"_parent\"><img src=\"https://colab.research.google.com/assets/colab-badge.svg\" alt=\"Open In Colab\"/></a>"
      ]
    },
    {
      "cell_type": "code",
      "execution_count": 1,
      "metadata": {
        "colab": {
          "base_uri": "https://localhost:8080/"
        },
        "id": "fUJXaXcNMEBw",
        "outputId": "3533f7fc-d366-4396-eb41-b2c376d929ac"
      },
      "outputs": [
        {
          "output_type": "stream",
          "name": "stdout",
          "text": [
            "                                          review sentiment\n",
            "0                           I love this product!  positive\n",
            "1  This is the worst product I have ever bought.  negative\n",
            "2               Great quality and fast delivery.  positive\n",
            "3                           Not worth the money.  negative\n",
            "4                 Highly recommend this product.  positive\n"
          ]
        }
      ],
      "source": [
        "# Import necessary libraries\n",
        "import pandas as pd\n",
        "\n",
        "# Sample data: Customer reviews\n",
        "data = {\n",
        "    'review': [\n",
        "        'I love this product!',\n",
        "        'This is the worst product I have ever bought.',\n",
        "        'Great quality and fast delivery.',\n",
        "        'Not worth the money.',\n",
        "        'Highly recommend this product.'\n",
        "    ],\n",
        "    'sentiment': ['positive', 'negative', 'positive', 'negative', 'positive']\n",
        "}\n",
        "\n",
        "# Create a DataFrame\n",
        "df = pd.DataFrame(data)\n",
        "print(df)"
      ]
    }
  ]
}